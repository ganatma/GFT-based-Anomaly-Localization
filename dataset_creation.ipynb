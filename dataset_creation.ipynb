{
 "cells": [
  {
   "cell_type": "code",
   "execution_count": 99,
   "metadata": {},
   "outputs": [],
   "source": [
    "import os\n",
    "import cv2\n",
    "import numpy as np\n",
    "import matplotlib.pyplot as plt\n",
    "import matplotlib.image as mpimg\n",
    "import matplotlib.patches as patches\n",
    "from PIL import Image\n",
    "\n",
    "# Load images from folder\n",
    "def load_images_from_folder(folder):\n",
    "    images = []\n",
    "    for filename in os.listdir(folder):\n",
    "        img = cv2.imread(os.path.join(folder,filename), cv2.IMREAD_GRAYSCALE)\n",
    "        if img is not None:\n",
    "            images.append(img)\n",
    "    return images\n",
    "\n",
    "#defects = load_images_from_folder('MVTEC-AD Textures/wood/test/scratch')\n",
    "non_defects = load_images_from_folder('MVTEC-AD Textures/wood/train/good')"
   ]
  },
  {
   "cell_type": "code",
   "execution_count": 100,
   "metadata": {},
   "outputs": [],
   "source": [
    "#defects = np.array(defects)\n",
    "non_defects = np.array(non_defects)"
   ]
  },
  {
   "cell_type": "code",
   "execution_count": 101,
   "metadata": {},
   "outputs": [
    {
     "data": {
      "text/plain": [
       "247"
      ]
     },
     "execution_count": 101,
     "metadata": {},
     "output_type": "execute_result"
    }
   ],
   "source": [
    "len(non_defects)"
   ]
  },
  {
   "cell_type": "code",
   "execution_count": 102,
   "metadata": {},
   "outputs": [],
   "source": [
    "import os\n",
    "import cv2\n",
    "import matplotlib.pyplot as plt\n",
    "from tkinter import *\n",
    "\n",
    "current_image_index = 0\n",
    "\n",
    "# Load the first image\n",
    "image = non_defects[current_image_index]\n",
    "\n",
    "# Counter for the number of patches saved from the current image\n",
    "patch_counter = 0\n",
    "# Function to handle mouse clicks and mouse movement\n",
    "def on_click(event, x, y, flags, param):\n",
    "    global patch_counter\n",
    "    if event == cv2.EVENT_LBUTTONDOWN:\n",
    "        patch = image[y-32:y+32, x-32:x+32]\n",
    "        cv2.imwrite(f'wood_good_small/image_{current_image_index}_patch_{patch_counter}.png', patch)\n",
    "        patch_counter += 1\n",
    "        if patch_counter == 10:\n",
    "            load_next_image()\n",
    "    elif event == cv2.EVENT_MOUSEMOVE:\n",
    "        # Draw a rectangle around the current mouse position\n",
    "        image_with_rectangle = image.copy()\n",
    "        cv2.rectangle(image_with_rectangle, (x-32, y-32), (x+32, y+32), (0, 255, 0), 2)\n",
    "        cv2.imshow('image', image_with_rectangle)\n",
    "\n",
    "# Function to load the next image\n",
    "def load_next_image():\n",
    "    global current_image_index, image, patch_counter\n",
    "    current_image_index += 1\n",
    "    patch_counter = 0\n",
    "    if current_image_index < len(non_defects):\n",
    "        image = non_defects[current_image_index]\n",
    "        cv2.imshow('image', image)\n",
    "\n",
    "# Display the image\n",
    "cv2.imshow('image', image)\n",
    "\n",
    "# Set the mouse callback function to the on_click function\n",
    "cv2.setMouseCallback('image', on_click)\n",
    "\n",
    "# Start the cv2 event loop\n",
    "while True:\n",
    "    if cv2.waitKey(1) & 0xFF == ord('q'):\n",
    "        break\n",
    "\n",
    "cv2.destroyAllWindows()"
   ]
  },
  {
   "cell_type": "code",
   "execution_count": null,
   "metadata": {},
   "outputs": [],
   "source": []
  }
 ],
 "metadata": {
  "kernelspec": {
   "display_name": "pytorch",
   "language": "python",
   "name": "python3"
  },
  "language_info": {
   "codemirror_mode": {
    "name": "ipython",
    "version": 3
   },
   "file_extension": ".py",
   "mimetype": "text/x-python",
   "name": "python",
   "nbconvert_exporter": "python",
   "pygments_lexer": "ipython3",
   "version": "3.9.16"
  }
 },
 "nbformat": 4,
 "nbformat_minor": 2
}
